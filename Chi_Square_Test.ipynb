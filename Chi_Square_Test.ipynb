{
  "nbformat": 4,
  "nbformat_minor": 0,
  "metadata": {
    "colab": {
      "name": "Chi-Square Test.ipynb",
      "provenance": [],
      "authorship_tag": "ABX9TyOn2KvK5QEFQD69tpwzvFEc",
      "include_colab_link": true
    },
    "kernelspec": {
      "name": "python3",
      "display_name": "Python 3"
    },
    "language_info": {
      "name": "python"
    }
  },
  "cells": [
    {
      "cell_type": "markdown",
      "metadata": {
        "id": "view-in-github",
        "colab_type": "text"
      },
      "source": [
        "<a href=\"https://colab.research.google.com/github/Rushikeshghule24/Data-Science/blob/main/Chi_Square_Test.ipynb\" target=\"_parent\"><img src=\"https://colab.research.google.com/assets/colab-badge.svg\" alt=\"Open In Colab\"/></a>"
      ]
    },
    {
      "cell_type": "code",
      "execution_count": 1,
      "metadata": {
        "id": "R8km0eChIDZk"
      },
      "outputs": [],
      "source": [
        "import pandas as pd\n",
        "import scipy.stats as stats"
      ]
    },
    {
      "cell_type": "code",
      "source": [
        "# create sample data according to survey\n",
        "data = [['18-29', 'Conservative'] for i in range(141)] + \\\n",
        "        [['18-29', 'Socialist'] for i in range(68)] + \\\n",
        "        [['18-29', 'Other'] for i in range(4)] + \\\n",
        "        [['30-44', 'Conservative'] for i in range(179)] + \\\n",
        "        [['30-44', 'Socialist'] for i in range(159)] + \\\n",
        "        [['30-44', 'Other'] for i in range(7)] + \\\n",
        "        [['45-65', 'Conservative'] for i in range(220)] + \\\n",
        "        [['45-65', 'Socialist'] for i in range(216)] + \\\n",
        "        [['45-65', 'Other'] for i in range(4)] + \\\n",
        "        [['65 & older', 'Conservative'] for i in range(86)] + \\\n",
        "        [['65 & older', 'Socialist'] for i in range(101)] + \\\n",
        "        [['65 & older', 'Other'] for i in range(4)]\n",
        "df = pd.DataFrame(data, columns = ['Age Group', 'Political Affiliation']) \n"
      ],
      "metadata": {
        "id": "6yey0BcsIQrb"
      },
      "execution_count": 2,
      "outputs": []
    },
    {
      "cell_type": "code",
      "source": [
        "# create contingency table\n",
        "data_crosstab = pd.crosstab(df['Age Group'],\n",
        "                            df['Political Affiliation'],\n",
        "                           margins=True, margins_name=\"Total\")"
      ],
      "metadata": {
        "id": "4lts2rD7IX-H"
      },
      "execution_count": 3,
      "outputs": []
    },
    {
      "cell_type": "code",
      "source": [
        "# significance level\n",
        "alpha = 0.05"
      ],
      "metadata": {
        "id": "rSvMW8G2IdWp"
      },
      "execution_count": 4,
      "outputs": []
    },
    {
      "cell_type": "code",
      "source": [
        "# Calcualtion of Chisquare test statistics\n",
        "chi_square = 0\n",
        "rows = df['Age Group'].unique()\n",
        "columns = df['Political Affiliation'].unique()\n",
        "for i in columns:\n",
        "    for j in rows:\n",
        "        O = data_crosstab[i][j]\n",
        "        E = data_crosstab[i]['Total'] * data_crosstab['Total'][j] / data_crosstab['Total']['Total']\n",
        "        chi_square += (O-E)**2/E"
      ],
      "metadata": {
        "id": "TAkRP6UMIglr"
      },
      "execution_count": 5,
      "outputs": []
    },
    {
      "cell_type": "code",
      "source": [
        "# The p-value approach\n",
        "print(\"Approach 1: The p-value approach to hypothesis testing in the decision rule\")\n",
        "p_value = 1 - stats.norm.cdf(chi_square, (len(rows)-1)*(len(columns)-1))\n",
        "conclusion = \"Failed to reject the null hypothesis.\"\n",
        "if p_value <= alpha:\n",
        "    conclusion = \"Null Hypothesis is rejected.\"\n",
        "        \n",
        "print(\"chisquare-score is:\", chi_square, \" and p value is:\", p_value)\n",
        "print(conclusion)\n"
      ],
      "metadata": {
        "colab": {
          "base_uri": "https://localhost:8080/"
        },
        "id": "UpfyRTsGIi-a",
        "outputId": "805492a9-1375-4a1f-eb6e-76b16490a3d4"
      },
      "execution_count": 6,
      "outputs": [
        {
          "output_type": "stream",
          "name": "stdout",
          "text": [
            "Approach 1: The p-value approach to hypothesis testing in the decision rule\n",
            "chisquare-score is: 24.367421717305202  and p value is: 0.0\n",
            "Null Hypothesis is rejected.\n"
          ]
        }
      ]
    },
    {
      "cell_type": "code",
      "source": [
        "# The critical value approach\n",
        "print(\"\\n--------------------------------------------------------------------------------------\")\n",
        "print(\"Approach 2: The critical value approach to hypothesis testing in the decision rule\")\n",
        "critical_value = stats.chi2.ppf(1-alpha, (len(rows)-1)*(len(columns)-1))\n",
        "conclusion = \"Failed to reject the null hypothesis.\"\n",
        "if chi_square > critical_value:\n",
        "    conclusion = \"Null Hypothesis is rejected.\"\n",
        "        \n",
        "print(\"chisquare-score is:\", chi_square, \" and p value is:\", critical_value)\n",
        "print(conclusion)"
      ],
      "metadata": {
        "colab": {
          "base_uri": "https://localhost:8080/"
        },
        "id": "eQ-HSNxTIlzR",
        "outputId": "6e6c7f90-f41e-40ce-a711-9213e6483e2c"
      },
      "execution_count": 7,
      "outputs": [
        {
          "output_type": "stream",
          "name": "stdout",
          "text": [
            "\n",
            "--------------------------------------------------------------------------------------\n",
            "Approach 2: The critical value approach to hypothesis testing in the decision rule\n",
            "chisquare-score is: 24.367421717305202  and p value is: 12.591587243743977\n",
            "Null Hypothesis is rejected.\n"
          ]
        }
      ]
    },
    {
      "cell_type": "code",
      "source": [
        ""
      ],
      "metadata": {
        "id": "5OSjnigmIm7V"
      },
      "execution_count": null,
      "outputs": []
    }
  ]
}